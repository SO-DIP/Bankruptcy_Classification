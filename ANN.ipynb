{
 "cells": [
  {
   "cell_type": "code",
   "execution_count": 1,
   "id": "5ff09d8e",
   "metadata": {},
   "outputs": [],
   "source": [
    "import tensorflow as tf"
   ]
  },
  {
   "cell_type": "code",
   "execution_count": 2,
   "id": "c4a4e5df",
   "metadata": {},
   "outputs": [],
   "source": [
    "import numpy as np\n",
    "import pandas as pd"
   ]
  },
  {
   "cell_type": "code",
   "execution_count": 3,
   "id": "9eae9c0d",
   "metadata": {},
   "outputs": [],
   "source": [
    "from tensorflow import keras\n",
    "from sklearn.metrics import confusion_matrix , classification_report,accuracy_score\n"
   ]
  },
  {
   "cell_type": "code",
   "execution_count": 4,
   "id": "a5cdc678",
   "metadata": {},
   "outputs": [],
   "source": [
    "df=pd.read_csv('Data.csv')"
   ]
  },
  {
   "cell_type": "code",
   "execution_count": 5,
   "id": "0fd04e77",
   "metadata": {},
   "outputs": [],
   "source": [
    "X=df.drop('Bankruptcy',axis='columns')\n",
    "y=df['Bankruptcy']"
   ]
  },
  {
   "cell_type": "code",
   "execution_count": 6,
   "id": "1d073845",
   "metadata": {},
   "outputs": [
    {
     "data": {
      "text/plain": [
       "0    6599\n",
       "1     220\n",
       "Name: Bankruptcy, dtype: int64"
      ]
     },
     "execution_count": 6,
     "metadata": {},
     "output_type": "execute_result"
    }
   ],
   "source": [
    "y.value_counts()"
   ]
  },
  {
   "cell_type": "code",
   "execution_count": 7,
   "id": "ab24096f",
   "metadata": {},
   "outputs": [],
   "source": [
    "from imblearn.over_sampling import SMOTE"
   ]
  },
  {
   "cell_type": "code",
   "execution_count": 8,
   "id": "deae0494",
   "metadata": {},
   "outputs": [
    {
     "data": {
      "text/plain": [
       "1    6599\n",
       "0    6599\n",
       "Name: Bankruptcy, dtype: int64"
      ]
     },
     "execution_count": 8,
     "metadata": {},
     "output_type": "execute_result"
    }
   ],
   "source": [
    "smote=SMOTE(sampling_strategy='minority')\n",
    "X_sm,y_sm = smote.fit_resample(X,y)\n",
    "y_sm.value_counts()"
   ]
  },
  {
   "cell_type": "code",
   "execution_count": 9,
   "id": "d95d08c3",
   "metadata": {},
   "outputs": [],
   "source": [
    "from sklearn.preprocessing import StandardScaler\n",
    "sc=StandardScaler()"
   ]
  },
  {
   "cell_type": "code",
   "execution_count": 10,
   "id": "6937cc69",
   "metadata": {},
   "outputs": [],
   "source": [
    "from sklearn.model_selection import train_test_split\n",
    "X_train, X_test, y_train, y_test = train_test_split(X_sm, y_sm, test_size=0.2, random_state=15, stratify=y_sm)\n",
    "y_train.value_counts()\n",
    "y_test.value_counts()\n",
    "\n",
    "X_train=sc.fit_transform(X_train)\n",
    "X_test= sc.transform(X_test)"
   ]
  },
  {
   "cell_type": "code",
   "execution_count": 11,
   "id": "37614767",
   "metadata": {},
   "outputs": [],
   "source": [
    "def ANN(X_train,y_train,X_test,y_test,loss,weights):\n",
    "    model = keras.Sequential([\n",
    "        keras.layers.Dense(95,input_dim=95,activation='relu'),\n",
    "        keras.layers.Dense(75,activation='relu'),\n",
    "        keras.layers.Dense(1,activation='sigmoid')\n",
    "    ])\n",
    "    model.compile(optimizer='adam',loss=loss,metrics=['accuracy'])\n",
    "    if  weights==-1:\n",
    "        model.fit(X_train,y_train,epochs= 100)\n",
    "    else :\n",
    "        model.fit(X_train,y_train,epochs=100,class_weight=weights)\n",
    "    \n",
    "    print(model.evaluate(X_test,y_test))\n",
    "    y_preds=model.predict(X_test)\n",
    "    y_preds = np.round(y_preds)\n",
    "    print(\"Classsification Report: \\n\", classification_report(y_test,y_preds))\n",
    "    return y_preds"
   ]
  },
  {
   "cell_type": "code",
   "execution_count": null,
   "id": "e64d83e5",
   "metadata": {},
   "outputs": [
    {
     "name": "stdout",
     "output_type": "stream",
     "text": [
      "Epoch 1/100\n",
      "330/330 [==============================] - 6s 4ms/step - loss: 0.2551 - accuracy: 0.8990\n",
      "Epoch 2/100\n",
      "330/330 [==============================] - 1s 3ms/step - loss: 0.1511 - accuracy: 0.9486\n",
      "Epoch 3/100\n",
      "330/330 [==============================] - 1s 3ms/step - loss: 0.1015 - accuracy: 0.9691\n",
      "Epoch 4/100\n",
      "330/330 [==============================] - 1s 3ms/step - loss: 0.0746 - accuracy: 0.9780\n",
      "Epoch 5/100\n",
      "330/330 [==============================] - 1s 3ms/step - loss: 0.0594 - accuracy: 0.9841\n",
      "Epoch 6/100\n",
      "330/330 [==============================] - 1s 3ms/step - loss: 0.0471 - accuracy: 0.9866\n",
      "Epoch 7/100\n",
      "330/330 [==============================] - 1s 3ms/step - loss: 0.0372 - accuracy: 0.9889\n",
      "Epoch 8/100\n",
      "330/330 [==============================] - 1s 3ms/step - loss: 0.0311 - accuracy: 0.9914\n",
      "Epoch 9/100\n",
      "330/330 [==============================] - 1s 3ms/step - loss: 0.0262 - accuracy: 0.9929\n",
      "Epoch 10/100\n",
      "330/330 [==============================] - 1s 3ms/step - loss: 0.0191 - accuracy: 0.9954\n",
      "Epoch 11/100\n",
      "330/330 [==============================] - 1s 3ms/step - loss: 0.0141 - accuracy: 0.9961\n",
      "Epoch 12/100\n",
      "330/330 [==============================] - 1s 3ms/step - loss: 0.0130 - accuracy: 0.9961\n",
      "Epoch 13/100\n",
      "330/330 [==============================] - 1s 3ms/step - loss: 0.0255 - accuracy: 0.9937\n",
      "Epoch 14/100\n",
      "330/330 [==============================] - 1s 3ms/step - loss: 0.0128 - accuracy: 0.9965\n",
      "Epoch 15/100\n",
      "330/330 [==============================] - 1s 3ms/step - loss: 0.0121 - accuracy: 0.9972\n",
      "Epoch 16/100\n",
      "330/330 [==============================] - 1s 3ms/step - loss: 0.0112 - accuracy: 0.9973\n",
      "Epoch 17/100\n",
      "330/330 [==============================] - 1s 3ms/step - loss: 0.0185 - accuracy: 0.9948\n",
      "Epoch 18/100\n",
      "330/330 [==============================] - 1s 3ms/step - loss: 0.0041 - accuracy: 0.9993\n",
      "Epoch 19/100\n",
      "330/330 [==============================] - 1s 3ms/step - loss: 0.0020 - accuracy: 0.9999\n",
      "Epoch 20/100\n",
      "330/330 [==============================] - 1s 3ms/step - loss: 0.0013 - accuracy: 1.0000\n",
      "Epoch 21/100\n",
      "330/330 [==============================] - 1s 3ms/step - loss: 0.0011 - accuracy: 1.0000\n",
      "Epoch 22/100\n",
      "330/330 [==============================] - 1s 3ms/step - loss: 7.4917e-04 - accuracy: 1.0000\n",
      "Epoch 23/100\n",
      "330/330 [==============================] - 1s 3ms/step - loss: 0.0112 - accuracy: 0.9976\n",
      "Epoch 24/100\n",
      "330/330 [==============================] - 1s 3ms/step - loss: 0.0285 - accuracy: 0.9930\n",
      "Epoch 25/100\n",
      "330/330 [==============================] - 1s 3ms/step - loss: 0.0049 - accuracy: 0.9988\n",
      "Epoch 26/100\n",
      "330/330 [==============================] - 1s 3ms/step - loss: 0.0011 - accuracy: 1.0000\n",
      "Epoch 27/100\n",
      "330/330 [==============================] - 1s 3ms/step - loss: 6.7847e-04 - accuracy: 1.0000\n",
      "Epoch 28/100\n",
      "330/330 [==============================] - 1s 3ms/step - loss: 5.2053e-04 - accuracy: 1.0000\n",
      "Epoch 29/100\n",
      "330/330 [==============================] - 1s 3ms/step - loss: 4.0050e-04 - accuracy: 1.0000\n",
      "Epoch 30/100\n",
      "330/330 [==============================] - 1s 3ms/step - loss: 3.0991e-04 - accuracy: 1.0000\n",
      "Epoch 31/100\n",
      "330/330 [==============================] - 1s 3ms/step - loss: 2.5644e-04 - accuracy: 1.0000\n",
      "Epoch 32/100\n",
      "330/330 [==============================] - 1s 3ms/step - loss: 2.0547e-04 - accuracy: 1.0000\n",
      "Epoch 33/100\n",
      "330/330 [==============================] - 1s 3ms/step - loss: 1.8079e-04 - accuracy: 1.0000\n",
      "Epoch 34/100\n",
      "330/330 [==============================] - 1s 3ms/step - loss: 1.4453e-04 - accuracy: 1.0000\n",
      "Epoch 35/100\n",
      "330/330 [==============================] - 1s 3ms/step - loss: 1.1941e-04 - accuracy: 1.0000\n",
      "Epoch 36/100\n",
      "330/330 [==============================] - 1s 4ms/step - loss: 1.0066e-04 - accuracy: 1.0000\n",
      "Epoch 37/100\n",
      "330/330 [==============================] - 1s 3ms/step - loss: 8.2795e-05 - accuracy: 1.0000\n",
      "Epoch 38/100\n",
      "330/330 [==============================] - 1s 3ms/step - loss: 6.9721e-05 - accuracy: 1.0000\n",
      "Epoch 39/100\n",
      "330/330 [==============================] - 1s 3ms/step - loss: 5.7639e-05 - accuracy: 1.0000\n",
      "Epoch 40/100\n",
      "330/330 [==============================] - 1s 3ms/step - loss: 4.8349e-05 - accuracy: 1.0000\n",
      "Epoch 41/100\n",
      "330/330 [==============================] - 1s 3ms/step - loss: 3.9304e-05 - accuracy: 1.0000\n",
      "Epoch 42/100\n",
      "330/330 [==============================] - 1s 3ms/step - loss: 3.3170e-05 - accuracy: 1.0000\n",
      "Epoch 43/100\n",
      "330/330 [==============================] - 1s 3ms/step - loss: 2.7917e-05 - accuracy: 1.0000\n",
      "Epoch 44/100\n",
      "330/330 [==============================] - 1s 3ms/step - loss: 2.3800e-05 - accuracy: 1.0000\n",
      "Epoch 45/100\n",
      "330/330 [==============================] - 1s 3ms/step - loss: 1.9696e-05 - accuracy: 1.0000\n",
      "Epoch 46/100\n",
      "330/330 [==============================] - 1s 3ms/step - loss: 1.5562e-05 - accuracy: 1.0000\n",
      "Epoch 47/100\n",
      "330/330 [==============================] - 1s 3ms/step - loss: 1.3218e-05 - accuracy: 1.0000\n",
      "Epoch 48/100\n",
      "330/330 [==============================] - 1s 3ms/step - loss: 1.1364e-05 - accuracy: 1.0000\n",
      "Epoch 49/100\n",
      "330/330 [==============================] - 1s 3ms/step - loss: 8.9275e-06 - accuracy: 1.0000\n",
      "Epoch 50/100\n",
      "330/330 [==============================] - 1s 3ms/step - loss: 7.9354e-06 - accuracy: 1.0000\n",
      "Epoch 51/100\n",
      "330/330 [==============================] - 1s 3ms/step - loss: 6.4365e-06 - accuracy: 1.0000\n",
      "Epoch 52/100\n"
     ]
    }
   ],
   "source": [
    "y_preds = ANN(X_train,y_train,X_test,y_test,'binary_crossentropy',-1)"
   ]
  },
  {
   "cell_type": "code",
   "execution_count": null,
   "id": "e4cae52e",
   "metadata": {},
   "outputs": [],
   "source": [
    "confusion_matrix(y_test,y_preds)"
   ]
  },
  {
   "cell_type": "code",
   "execution_count": null,
   "id": "ff6cb6f9",
   "metadata": {},
   "outputs": [],
   "source": [
    "accuracy_score(y_test,y_preds)"
   ]
  },
  {
   "cell_type": "code",
   "execution_count": null,
   "id": "5ec1725d",
   "metadata": {},
   "outputs": [],
   "source": [
    "from sklearn.model_selection import cross_val_score\n",
    "accuracies= cross_val_score(estimator=classifier,X= X_train, y =y_train, cv = 10)\n",
    "print(\"Accuracy : {:.2f}%\".format(accuracies.mean()*100))\n",
    "print(\"Standard_Deviation : {:.2f}%\".format(accuracies.std()*100))"
   ]
  },
  {
   "cell_type": "code",
   "execution_count": null,
   "id": "2e6adef6",
   "metadata": {},
   "outputs": [],
   "source": []
  }
 ],
 "metadata": {
  "kernelspec": {
   "display_name": "Python 3 (ipykernel)",
   "language": "python",
   "name": "python3"
  },
  "language_info": {
   "codemirror_mode": {
    "name": "ipython",
    "version": 3
   },
   "file_extension": ".py",
   "mimetype": "text/x-python",
   "name": "python",
   "nbconvert_exporter": "python",
   "pygments_lexer": "ipython3",
   "version": "3.10.8"
  }
 },
 "nbformat": 4,
 "nbformat_minor": 5
}
