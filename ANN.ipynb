{
 "cells": [
  {
   "cell_type": "code",
   "execution_count": 1,
   "id": "5ff09d8e",
   "metadata": {},
   "outputs": [],
   "source": [
    "import tensorflow as tf"
   ]
  },
  {
   "cell_type": "code",
   "execution_count": 2,
   "id": "c4a4e5df",
   "metadata": {},
   "outputs": [],
   "source": [
    "import numpy as np\n",
    "import pandas as pd"
   ]
  },
  {
   "cell_type": "code",
   "execution_count": 67,
   "id": "9eae9c0d",
   "metadata": {},
   "outputs": [],
   "source": [
    "from tensorflow import keras\n",
    "from sklearn.metrics import confusion_matrix , classification_report,accuracy_score\n"
   ]
  },
  {
   "cell_type": "code",
   "execution_count": 37,
   "id": "a5cdc678",
   "metadata": {},
   "outputs": [],
   "source": [
    "df=pd.read_csv('Data.csv')"
   ]
  },
  {
   "cell_type": "code",
   "execution_count": 38,
   "id": "0fd04e77",
   "metadata": {},
   "outputs": [],
   "source": [
    "X=df.drop('Bankruptcy',axis='columns')\n",
    "y=df['Bankruptcy']"
   ]
  },
  {
   "cell_type": "code",
   "execution_count": 42,
   "id": "1d073845",
   "metadata": {},
   "outputs": [
    {
     "data": {
      "text/plain": [
       "0    6599\n",
       "1     220\n",
       "Name: Bankruptcy, dtype: int64"
      ]
     },
     "execution_count": 42,
     "metadata": {},
     "output_type": "execute_result"
    }
   ],
   "source": [
    "y.value_counts()"
   ]
  },
  {
   "cell_type": "code",
   "execution_count": 49,
   "id": "ab24096f",
   "metadata": {},
   "outputs": [],
   "source": [
    "from imblearn.over_sampling import SMOTE"
   ]
  },
  {
   "cell_type": "code",
   "execution_count": 55,
   "id": "deae0494",
   "metadata": {},
   "outputs": [
    {
     "data": {
      "text/plain": [
       "1    6599\n",
       "0    6599\n",
       "Name: Bankruptcy, dtype: int64"
      ]
     },
     "execution_count": 55,
     "metadata": {},
     "output_type": "execute_result"
    }
   ],
   "source": [
    "smote=SMOTE(sampling_strategy='minority')\n",
    "X_sm,y_sm = smote.fit_resample(X,y)\n",
    "y_sm.value_counts()"
   ]
  },
  {
   "cell_type": "code",
   "execution_count": 60,
   "id": "d95d08c3",
   "metadata": {},
   "outputs": [],
   "source": [
    "from sklearn.preprocessing import StandardScaler\n",
    "sc=StandardScaler()"
   ]
  },
  {
   "cell_type": "code",
   "execution_count": 62,
   "id": "6937cc69",
   "metadata": {},
   "outputs": [],
   "source": [
    "from sklearn.model_selection import train_test_split\n",
    "X_train, X_test, y_train, y_test = train_test_split(X_sm, y_sm, test_size=0.2, random_state=15, stratify=y_sm)\n",
    "y_train.value_counts()\n",
    "y_test.value_counts()\n",
    "\n",
    "X_train=sc.fit_transform(X_train)\n",
    "X_test= sc.transform(X_test)"
   ]
  },
  {
   "cell_type": "code",
   "execution_count": 63,
   "id": "37614767",
   "metadata": {},
   "outputs": [],
   "source": [
    "def ANN(X_train,y_train,X_test,y_test,loss,weights):\n",
    "    model = keras.Sequential([\n",
    "        keras.layers.Dense(95,input_dim=95,activation='relu'),\n",
    "        keras.layers.Dense(75,activation='relu'),\n",
    "        keras.layers.Dense(1,activation='sigmoid')\n",
    "    ])\n",
    "    model.compile(optimizer='adam',loss=loss,metrics=['accuracy'])\n",
    "    if  weights==-1:\n",
    "        model.fit(X_train,y_train,epochs= 100)\n",
    "    else :\n",
    "        model.fit(X_train,y_train,epochs=100,class_weight=weights)\n",
    "    \n",
    "    print(model.evaluate(X_test,y_test))\n",
    "    y_preds=model.predict(X_test)\n",
    "    y_preds = np.round(y_preds)\n",
    "    print(\"Classsification Report: \\n\", classification_report(y_test,y_preds))\n",
    "    return y_preds"
   ]
  },
  {
   "cell_type": "code",
   "execution_count": 64,
   "id": "e64d83e5",
   "metadata": {},
   "outputs": [
    {
     "name": "stdout",
     "output_type": "stream",
     "text": [
      "Epoch 1/100\n",
      "330/330 [==============================] - 3s 4ms/step - loss: 0.2463 - accuracy: 0.9066\n",
      "Epoch 2/100\n",
      "330/330 [==============================] - 1s 4ms/step - loss: 0.1432 - accuracy: 0.9524\n",
      "Epoch 3/100\n",
      "330/330 [==============================] - 1s 4ms/step - loss: 0.0964 - accuracy: 0.9693\n",
      "Epoch 4/100\n",
      "330/330 [==============================] - 1s 4ms/step - loss: 0.0733 - accuracy: 0.9781\n",
      "Epoch 5/100\n",
      "330/330 [==============================] - 2s 5ms/step - loss: 0.0557 - accuracy: 0.9848\n",
      "Epoch 6/100\n",
      "330/330 [==============================] - 1s 4ms/step - loss: 0.0439 - accuracy: 0.9882\n",
      "Epoch 7/100\n",
      "330/330 [==============================] - 1s 4ms/step - loss: 0.0346 - accuracy: 0.9907\n",
      "Epoch 8/100\n",
      "330/330 [==============================] - 1s 4ms/step - loss: 0.0261 - accuracy: 0.9926\n",
      "Epoch 9/100\n",
      "330/330 [==============================] - 1s 4ms/step - loss: 0.0271 - accuracy: 0.9924\n",
      "Epoch 10/100\n",
      "330/330 [==============================] - 1s 4ms/step - loss: 0.0212 - accuracy: 0.9938\n",
      "Epoch 11/100\n",
      "330/330 [==============================] - 1s 4ms/step - loss: 0.0137 - accuracy: 0.9960\n",
      "Epoch 12/100\n",
      "330/330 [==============================] - 1s 4ms/step - loss: 0.0119 - accuracy: 0.9962\n",
      "Epoch 13/100\n",
      "330/330 [==============================] - 1s 4ms/step - loss: 0.0118 - accuracy: 0.9967\n",
      "Epoch 14/100\n",
      "330/330 [==============================] - 1s 4ms/step - loss: 0.0146 - accuracy: 0.9960\n",
      "Epoch 15/100\n",
      "330/330 [==============================] - 1s 4ms/step - loss: 0.0113 - accuracy: 0.9973\n",
      "Epoch 16/100\n",
      "330/330 [==============================] - 1s 4ms/step - loss: 0.0069 - accuracy: 0.9987\n",
      "Epoch 17/100\n",
      "330/330 [==============================] - 1s 4ms/step - loss: 0.0021 - accuracy: 0.9998\n",
      "Epoch 18/100\n",
      "330/330 [==============================] - 1s 4ms/step - loss: 0.0014 - accuracy: 1.0000\n",
      "Epoch 19/100\n",
      "330/330 [==============================] - 1s 4ms/step - loss: 8.2374e-04 - accuracy: 1.0000\n",
      "Epoch 20/100\n",
      "330/330 [==============================] - 1s 4ms/step - loss: 6.1753e-04 - accuracy: 1.0000\n",
      "Epoch 21/100\n",
      "330/330 [==============================] - 1s 4ms/step - loss: 5.1790e-04 - accuracy: 1.0000\n",
      "Epoch 22/100\n",
      "330/330 [==============================] - 1s 4ms/step - loss: 3.8041e-04 - accuracy: 1.0000\n",
      "Epoch 23/100\n",
      "330/330 [==============================] - 1s 4ms/step - loss: 3.0642e-04 - accuracy: 1.0000\n",
      "Epoch 24/100\n",
      "330/330 [==============================] - 1s 4ms/step - loss: 2.4115e-04 - accuracy: 1.0000\n",
      "Epoch 25/100\n",
      "330/330 [==============================] - 1s 4ms/step - loss: 2.1105e-04 - accuracy: 1.0000\n",
      "Epoch 26/100\n",
      "330/330 [==============================] - 1s 4ms/step - loss: 1.8404e-04 - accuracy: 1.0000\n",
      "Epoch 27/100\n",
      "330/330 [==============================] - 1s 4ms/step - loss: 1.4633e-04 - accuracy: 1.0000\n",
      "Epoch 28/100\n",
      "330/330 [==============================] - 1s 4ms/step - loss: 1.0964e-04 - accuracy: 1.0000\n",
      "Epoch 29/100\n",
      "330/330 [==============================] - 1s 4ms/step - loss: 8.9372e-05 - accuracy: 1.0000\n",
      "Epoch 30/100\n",
      "330/330 [==============================] - 1s 4ms/step - loss: 8.0454e-05 - accuracy: 1.0000\n",
      "Epoch 31/100\n",
      "330/330 [==============================] - 1s 4ms/step - loss: 6.1138e-05 - accuracy: 1.0000\n",
      "Epoch 32/100\n",
      "330/330 [==============================] - 1s 4ms/step - loss: 4.6020e-05 - accuracy: 1.0000\n",
      "Epoch 33/100\n",
      "330/330 [==============================] - 1s 4ms/step - loss: 4.1011e-05 - accuracy: 1.0000\n",
      "Epoch 34/100\n",
      "330/330 [==============================] - 1s 4ms/step - loss: 3.3221e-05 - accuracy: 1.0000\n",
      "Epoch 35/100\n",
      "330/330 [==============================] - 1s 4ms/step - loss: 2.6863e-05 - accuracy: 1.0000\n",
      "Epoch 36/100\n",
      "330/330 [==============================] - 1s 4ms/step - loss: 2.2638e-05 - accuracy: 1.0000\n",
      "Epoch 37/100\n",
      "330/330 [==============================] - 1s 4ms/step - loss: 1.9125e-05 - accuracy: 1.0000\n",
      "Epoch 38/100\n",
      "330/330 [==============================] - 1s 4ms/step - loss: 1.5539e-05 - accuracy: 1.0000\n",
      "Epoch 39/100\n",
      "330/330 [==============================] - 1s 4ms/step - loss: 1.2465e-05 - accuracy: 1.0000\n",
      "Epoch 40/100\n",
      "330/330 [==============================] - 1s 4ms/step - loss: 1.0104e-05 - accuracy: 1.0000\n",
      "Epoch 41/100\n",
      "330/330 [==============================] - 1s 4ms/step - loss: 8.3381e-06 - accuracy: 1.0000\n",
      "Epoch 42/100\n",
      "330/330 [==============================] - 1s 4ms/step - loss: 6.8991e-06 - accuracy: 1.0000\n",
      "Epoch 43/100\n",
      "330/330 [==============================] - 1s 4ms/step - loss: 5.7261e-06 - accuracy: 1.0000\n",
      "Epoch 44/100\n",
      "330/330 [==============================] - 1s 4ms/step - loss: 4.6179e-06 - accuracy: 1.0000\n",
      "Epoch 45/100\n",
      "330/330 [==============================] - 1s 4ms/step - loss: 3.9905e-06 - accuracy: 1.0000\n",
      "Epoch 46/100\n",
      "330/330 [==============================] - 1s 4ms/step - loss: 3.3201e-06 - accuracy: 1.0000\n",
      "Epoch 47/100\n",
      "330/330 [==============================] - 1s 4ms/step - loss: 2.7695e-06 - accuracy: 1.0000\n",
      "Epoch 48/100\n",
      "330/330 [==============================] - 1s 4ms/step - loss: 2.2586e-06 - accuracy: 1.0000\n",
      "Epoch 49/100\n",
      "330/330 [==============================] - 1s 4ms/step - loss: 1.8081e-06 - accuracy: 1.0000\n",
      "Epoch 50/100\n",
      "330/330 [==============================] - 1s 4ms/step - loss: 1.5997e-06 - accuracy: 1.0000\n",
      "Epoch 51/100\n",
      "330/330 [==============================] - 1s 4ms/step - loss: 1.2829e-06 - accuracy: 1.0000\n",
      "Epoch 52/100\n",
      "330/330 [==============================] - 1s 4ms/step - loss: 1.0180e-06 - accuracy: 1.0000\n",
      "Epoch 53/100\n",
      "330/330 [==============================] - 1s 4ms/step - loss: 8.8039e-07 - accuracy: 1.0000\n",
      "Epoch 54/100\n",
      "330/330 [==============================] - 1s 4ms/step - loss: 7.2324e-07 - accuracy: 1.0000\n",
      "Epoch 55/100\n",
      "330/330 [==============================] - 1s 4ms/step - loss: 5.7543e-07 - accuracy: 1.0000\n",
      "Epoch 56/100\n",
      "330/330 [==============================] - 1s 4ms/step - loss: 4.9145e-07 - accuracy: 1.0000\n",
      "Epoch 57/100\n",
      "330/330 [==============================] - 1s 4ms/step - loss: 3.9802e-07 - accuracy: 1.0000\n",
      "Epoch 58/100\n",
      "330/330 [==============================] - 1s 4ms/step - loss: 3.3186e-07 - accuracy: 1.0000\n",
      "Epoch 59/100\n",
      "330/330 [==============================] - 1s 4ms/step - loss: 2.9626e-07 - accuracy: 1.0000\n",
      "Epoch 60/100\n",
      "330/330 [==============================] - 1s 4ms/step - loss: 2.4949e-07 - accuracy: 1.0000\n",
      "Epoch 61/100\n",
      "330/330 [==============================] - 1s 4ms/step - loss: 1.9843e-07 - accuracy: 1.0000\n",
      "Epoch 62/100\n",
      "330/330 [==============================] - 1s 4ms/step - loss: 1.7356e-07 - accuracy: 1.0000\n",
      "Epoch 63/100\n",
      "330/330 [==============================] - 1s 4ms/step - loss: 1.5337e-07 - accuracy: 1.0000\n",
      "Epoch 64/100\n",
      "330/330 [==============================] - 1s 4ms/step - loss: 1.1440e-07 - accuracy: 1.0000\n",
      "Epoch 65/100\n",
      "330/330 [==============================] - 1s 4ms/step - loss: 8.9602e-08 - accuracy: 1.0000\n",
      "Epoch 66/100\n",
      "330/330 [==============================] - 1s 4ms/step - loss: 8.3103e-08 - accuracy: 1.0000\n",
      "Epoch 67/100\n",
      "330/330 [==============================] - 1s 4ms/step - loss: 6.7090e-08 - accuracy: 1.0000\n",
      "Epoch 68/100\n",
      "330/330 [==============================] - 1s 4ms/step - loss: 5.6679e-08 - accuracy: 1.0000\n",
      "Epoch 69/100\n",
      "330/330 [==============================] - 1s 4ms/step - loss: 4.8455e-08 - accuracy: 1.0000\n",
      "Epoch 70/100\n",
      "330/330 [==============================] - 1s 4ms/step - loss: 0.1163 - accuracy: 0.9845\n",
      "Epoch 71/100\n",
      "330/330 [==============================] - 1s 4ms/step - loss: 0.0091 - accuracy: 0.9984\n",
      "Epoch 72/100\n",
      "330/330 [==============================] - 1s 4ms/step - loss: 0.0032 - accuracy: 0.9994\n",
      "Epoch 73/100\n",
      "330/330 [==============================] - 1s 4ms/step - loss: 5.8319e-04 - accuracy: 1.0000\n",
      "Epoch 74/100\n",
      "330/330 [==============================] - 1s 4ms/step - loss: 3.7115e-04 - accuracy: 1.0000\n",
      "Epoch 75/100\n",
      "330/330 [==============================] - 1s 4ms/step - loss: 2.7005e-04 - accuracy: 1.0000\n",
      "Epoch 76/100\n",
      "330/330 [==============================] - 1s 4ms/step - loss: 2.0014e-04 - accuracy: 1.0000\n",
      "Epoch 77/100\n",
      "330/330 [==============================] - 1s 4ms/step - loss: 1.5756e-04 - accuracy: 1.0000\n",
      "Epoch 78/100\n",
      "330/330 [==============================] - 1s 4ms/step - loss: 1.2430e-04 - accuracy: 1.0000\n",
      "Epoch 79/100\n"
     ]
    },
    {
     "name": "stdout",
     "output_type": "stream",
     "text": [
      "330/330 [==============================] - 1s 4ms/step - loss: 1.0124e-04 - accuracy: 1.0000\n",
      "Epoch 80/100\n",
      "330/330 [==============================] - 1s 4ms/step - loss: 8.3069e-05 - accuracy: 1.0000\n",
      "Epoch 81/100\n",
      "330/330 [==============================] - 1s 4ms/step - loss: 6.8360e-05 - accuracy: 1.0000\n",
      "Epoch 82/100\n",
      "330/330 [==============================] - 1s 4ms/step - loss: 5.7188e-05 - accuracy: 1.0000\n",
      "Epoch 83/100\n",
      "330/330 [==============================] - 1s 4ms/step - loss: 4.7104e-05 - accuracy: 1.0000\n",
      "Epoch 84/100\n",
      "330/330 [==============================] - 1s 4ms/step - loss: 4.0060e-05 - accuracy: 1.0000\n",
      "Epoch 85/100\n",
      "330/330 [==============================] - 1s 4ms/step - loss: 3.3486e-05 - accuracy: 1.0000\n",
      "Epoch 86/100\n",
      "330/330 [==============================] - 1s 4ms/step - loss: 2.7961e-05 - accuracy: 1.0000\n",
      "Epoch 87/100\n",
      "330/330 [==============================] - 1s 4ms/step - loss: 2.3748e-05 - accuracy: 1.0000\n",
      "Epoch 88/100\n",
      "330/330 [==============================] - 1s 4ms/step - loss: 1.9791e-05 - accuracy: 1.0000\n",
      "Epoch 89/100\n",
      "330/330 [==============================] - 1s 4ms/step - loss: 1.6668e-05 - accuracy: 1.0000\n",
      "Epoch 90/100\n",
      "330/330 [==============================] - 1s 4ms/step - loss: 1.4320e-05 - accuracy: 1.0000\n",
      "Epoch 91/100\n",
      "330/330 [==============================] - 1s 4ms/step - loss: 1.2065e-05 - accuracy: 1.0000\n",
      "Epoch 92/100\n",
      "330/330 [==============================] - 1s 4ms/step - loss: 1.0339e-05 - accuracy: 1.0000\n",
      "Epoch 93/100\n",
      "330/330 [==============================] - 1s 4ms/step - loss: 8.7772e-06 - accuracy: 1.0000\n",
      "Epoch 94/100\n",
      "330/330 [==============================] - 1s 4ms/step - loss: 7.4029e-06 - accuracy: 1.0000\n",
      "Epoch 95/100\n",
      "330/330 [==============================] - 1s 4ms/step - loss: 6.2934e-06 - accuracy: 1.0000\n",
      "Epoch 96/100\n",
      "330/330 [==============================] - 1s 4ms/step - loss: 5.4137e-06 - accuracy: 1.0000\n",
      "Epoch 97/100\n",
      "330/330 [==============================] - 1s 4ms/step - loss: 4.5663e-06 - accuracy: 1.0000\n",
      "Epoch 98/100\n",
      "330/330 [==============================] - 1s 4ms/step - loss: 3.9123e-06 - accuracy: 1.0000\n",
      "Epoch 99/100\n",
      "330/330 [==============================] - 1s 4ms/step - loss: 3.3128e-06 - accuracy: 1.0000\n",
      "Epoch 100/100\n",
      "330/330 [==============================] - 1s 4ms/step - loss: 2.8403e-06 - accuracy: 1.0000\n",
      "83/83 [==============================] - 1s 3ms/step - loss: 0.1157 - accuracy: 0.9890\n",
      "[0.11569411307573318, 0.9890151619911194]\n",
      "83/83 [==============================] - 0s 3ms/step\n",
      "Classsification Report: \n",
      "               precision    recall  f1-score   support\n",
      "\n",
      "           0       1.00      0.98      0.99      1320\n",
      "           1       0.98      1.00      0.99      1320\n",
      "\n",
      "    accuracy                           0.99      2640\n",
      "   macro avg       0.99      0.99      0.99      2640\n",
      "weighted avg       0.99      0.99      0.99      2640\n",
      "\n"
     ]
    }
   ],
   "source": [
    "y_preds = ANN(X_train,y_train,X_test,y_test,'binary_crossentropy',-1)"
   ]
  },
  {
   "cell_type": "code",
   "execution_count": 66,
   "id": "e4cae52e",
   "metadata": {},
   "outputs": [
    {
     "data": {
      "text/plain": [
       "array([[1291,   29],\n",
       "       [   0, 1320]], dtype=int64)"
      ]
     },
     "execution_count": 66,
     "metadata": {},
     "output_type": "execute_result"
    }
   ],
   "source": [
    "confusion_matrix(y_test,y_preds)"
   ]
  },
  {
   "cell_type": "code",
   "execution_count": 68,
   "id": "ff6cb6f9",
   "metadata": {},
   "outputs": [
    {
     "data": {
      "text/plain": [
       "0.9890151515151515"
      ]
     },
     "execution_count": 68,
     "metadata": {},
     "output_type": "execute_result"
    }
   ],
   "source": [
    "accuracy_score(y_test,y_preds)"
   ]
  },
  {
   "cell_type": "code",
   "execution_count": null,
   "id": "5ec1725d",
   "metadata": {},
   "outputs": [],
   "source": []
  }
 ],
 "metadata": {
  "kernelspec": {
   "display_name": "Python 3 (ipykernel)",
   "language": "python",
   "name": "python3"
  },
  "language_info": {
   "codemirror_mode": {
    "name": "ipython",
    "version": 3
   },
   "file_extension": ".py",
   "mimetype": "text/x-python",
   "name": "python",
   "nbconvert_exporter": "python",
   "pygments_lexer": "ipython3",
   "version": "3.10.8"
  }
 },
 "nbformat": 4,
 "nbformat_minor": 5
}
