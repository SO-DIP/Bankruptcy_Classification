{
 "cells": [
  {
   "cell_type": "code",
   "execution_count": 1,
   "id": "5ff09d8e",
   "metadata": {},
   "outputs": [],
   "source": [
    "import tensorflow as tf"
   ]
  },
  {
   "cell_type": "code",
   "execution_count": 2,
   "id": "c4a4e5df",
   "metadata": {},
   "outputs": [],
   "source": [
    "import numpy as np\n",
    "import pandas as pd"
   ]
  },
  {
   "cell_type": "code",
   "execution_count": 3,
   "id": "9eae9c0d",
   "metadata": {},
   "outputs": [],
   "source": [
    "from tensorflow import keras\n",
    "from sklearn.metrics import confusion_matrix , classification_report,accuracy_score\n"
   ]
  },
  {
   "cell_type": "code",
   "execution_count": 4,
   "id": "a5cdc678",
   "metadata": {},
   "outputs": [],
   "source": [
    "df=pd.read_csv('Data.csv')"
   ]
  },
  {
   "cell_type": "code",
   "execution_count": 5,
   "id": "0fd04e77",
   "metadata": {},
   "outputs": [],
   "source": [
    "X=df.drop('Bankruptcy',axis='columns')\n",
    "y=df['Bankruptcy']"
   ]
  },
  {
   "cell_type": "code",
   "execution_count": 6,
   "id": "1d073845",
   "metadata": {},
   "outputs": [
    {
     "data": {
      "text/plain": [
       "0    6599\n",
       "1     220\n",
       "Name: Bankruptcy, dtype: int64"
      ]
     },
     "execution_count": 6,
     "metadata": {},
     "output_type": "execute_result"
    }
   ],
   "source": [
    "y.value_counts()"
   ]
  },
  {
   "cell_type": "code",
   "execution_count": 7,
   "id": "ab24096f",
   "metadata": {},
   "outputs": [],
   "source": [
    "from imblearn.over_sampling import SMOTE"
   ]
  },
  {
   "cell_type": "code",
   "execution_count": 8,
   "id": "deae0494",
   "metadata": {},
   "outputs": [
    {
     "data": {
      "text/plain": [
       "1    6599\n",
       "0    6599\n",
       "Name: Bankruptcy, dtype: int64"
      ]
     },
     "execution_count": 8,
     "metadata": {},
     "output_type": "execute_result"
    }
   ],
   "source": [
    "smote=SMOTE(sampling_strategy='minority')\n",
    "X_sm,y_sm = smote.fit_resample(X,y)\n",
    "y_sm.value_counts()"
   ]
  },
  {
   "cell_type": "code",
   "execution_count": 9,
   "id": "d95d08c3",
   "metadata": {},
   "outputs": [],
   "source": [
    "from sklearn.preprocessing import StandardScaler\n",
    "sc=StandardScaler()"
   ]
  },
  {
   "cell_type": "code",
   "execution_count": 10,
   "id": "6937cc69",
   "metadata": {},
   "outputs": [],
   "source": [
    "from sklearn.model_selection import train_test_split\n",
    "X_train, X_test, y_train, y_test = train_test_split(X_sm, y_sm, test_size=0.2, random_state=15, stratify=y_sm)\n",
    "y_train.value_counts()\n",
    "y_test.value_counts()\n",
    "\n",
    "X_train=sc.fit_transform(X_train)\n",
    "X_test= sc.transform(X_test)\n",
    "\n"
   ]
  },
  {
   "cell_type": "code",
   "execution_count": 11,
   "id": "64b7d566",
   "metadata": {},
   "outputs": [],
   "source": [
    "from sklearn.decomposition import PCA\n",
    "pca = PCA(n_components = 2)\n",
    "X_train = pca.fit_transform(X_train)\n",
    "X_test = pca.transform(X_test)"
   ]
  },
  {
   "cell_type": "code",
   "execution_count": 18,
   "id": "37614767",
   "metadata": {},
   "outputs": [],
   "source": [
    "def ANN(X_train,y_train,X_test,y_test,loss,weights):\n",
    "    model = keras.Sequential([\n",
    "        keras.layers.Dense(2,input_dim=2,activation='relu'),\n",
    "        keras.layers.Dense(2,activation='relu'),\n",
    "        keras.layers.Dense(1,activation='sigmoid')\n",
    "    ])\n",
    "    model.compile(optimizer='adam',loss=loss,metrics=['accuracy'])\n",
    "    if  weights==-1:\n",
    "        model.fit(X_train,y_train,epochs= 100)\n",
    "    else :\n",
    "        model.fit(X_train,y_train,epochs=100,class_weight=weights)\n",
    "    \n",
    "    print(model.evaluate(X_test,y_test))\n",
    "    y_preds=model.predict(X_test)\n",
    "    y_preds = np.round(y_preds)\n",
    "    print(\"Classsification Report: \\n\", classification_report(y_test,y_preds))\n",
    "    return y_preds"
   ]
  },
  {
   "cell_type": "code",
   "execution_count": 19,
   "id": "e64d83e5",
   "metadata": {},
   "outputs": [
    {
     "name": "stdout",
     "output_type": "stream",
     "text": [
      "Epoch 1/100\n",
      "330/330 [==============================] - 2s 3ms/step - loss: 0.6188 - accuracy: 0.8069\n",
      "Epoch 2/100\n",
      "330/330 [==============================] - 1s 3ms/step - loss: 0.4766 - accuracy: 0.8397\n",
      "Epoch 3/100\n",
      "330/330 [==============================] - 1s 3ms/step - loss: 0.4169 - accuracy: 0.8510\n",
      "Epoch 4/100\n",
      "330/330 [==============================] - 1s 3ms/step - loss: 0.3893 - accuracy: 0.8534\n",
      "Epoch 5/100\n",
      "330/330 [==============================] - 1s 3ms/step - loss: 0.3725 - accuracy: 0.8557\n",
      "Epoch 6/100\n",
      "330/330 [==============================] - 1s 3ms/step - loss: 0.3610 - accuracy: 0.8577\n",
      "Epoch 7/100\n",
      "330/330 [==============================] - 1s 3ms/step - loss: 0.3519 - accuracy: 0.8611\n",
      "Epoch 8/100\n",
      "330/330 [==============================] - 1s 3ms/step - loss: 0.3469 - accuracy: 0.8624\n",
      "Epoch 9/100\n",
      "330/330 [==============================] - 1s 3ms/step - loss: 0.3439 - accuracy: 0.8625\n",
      "Epoch 10/100\n",
      "330/330 [==============================] - 1s 3ms/step - loss: 0.3418 - accuracy: 0.8625\n",
      "Epoch 11/100\n",
      "330/330 [==============================] - 1s 3ms/step - loss: 0.3402 - accuracy: 0.8622\n",
      "Epoch 12/100\n",
      "330/330 [==============================] - 1s 3ms/step - loss: 0.3390 - accuracy: 0.8629\n",
      "Epoch 13/100\n",
      "330/330 [==============================] - 1s 3ms/step - loss: 0.3379 - accuracy: 0.8627\n",
      "Epoch 14/100\n",
      "330/330 [==============================] - 1s 3ms/step - loss: 0.3369 - accuracy: 0.8626\n",
      "Epoch 15/100\n",
      "330/330 [==============================] - 1s 3ms/step - loss: 0.3361 - accuracy: 0.8619\n",
      "Epoch 16/100\n",
      "330/330 [==============================] - 1s 3ms/step - loss: 0.3354 - accuracy: 0.8635\n",
      "Epoch 17/100\n",
      "330/330 [==============================] - 1s 3ms/step - loss: 0.3348 - accuracy: 0.8622\n",
      "Epoch 18/100\n",
      "330/330 [==============================] - 1s 3ms/step - loss: 0.3341 - accuracy: 0.8626\n",
      "Epoch 19/100\n",
      "330/330 [==============================] - 1s 3ms/step - loss: 0.3339 - accuracy: 0.8614\n",
      "Epoch 20/100\n",
      "330/330 [==============================] - 1s 3ms/step - loss: 0.3334 - accuracy: 0.8631\n",
      "Epoch 21/100\n",
      "330/330 [==============================] - 1s 3ms/step - loss: 0.3331 - accuracy: 0.8631\n",
      "Epoch 22/100\n",
      "330/330 [==============================] - 1s 3ms/step - loss: 0.3327 - accuracy: 0.8621\n",
      "Epoch 23/100\n",
      "330/330 [==============================] - 1s 3ms/step - loss: 0.3324 - accuracy: 0.8629\n",
      "Epoch 24/100\n",
      "330/330 [==============================] - 1s 3ms/step - loss: 0.3319 - accuracy: 0.8628\n",
      "Epoch 25/100\n",
      "330/330 [==============================] - 1s 3ms/step - loss: 0.3319 - accuracy: 0.8631\n",
      "Epoch 26/100\n",
      "330/330 [==============================] - 1s 3ms/step - loss: 0.3316 - accuracy: 0.8631\n",
      "Epoch 27/100\n",
      "330/330 [==============================] - 1s 3ms/step - loss: 0.3313 - accuracy: 0.8637\n",
      "Epoch 28/100\n",
      "330/330 [==============================] - 1s 3ms/step - loss: 0.3310 - accuracy: 0.8629\n",
      "Epoch 29/100\n",
      "330/330 [==============================] - 1s 3ms/step - loss: 0.3308 - accuracy: 0.8640\n",
      "Epoch 30/100\n",
      "330/330 [==============================] - 1s 3ms/step - loss: 0.3305 - accuracy: 0.8637\n",
      "Epoch 31/100\n",
      "330/330 [==============================] - 1s 3ms/step - loss: 0.3301 - accuracy: 0.8644\n",
      "Epoch 32/100\n",
      "330/330 [==============================] - 1s 3ms/step - loss: 0.3299 - accuracy: 0.8645\n",
      "Epoch 33/100\n",
      "330/330 [==============================] - 1s 3ms/step - loss: 0.3296 - accuracy: 0.8647\n",
      "Epoch 34/100\n",
      "330/330 [==============================] - 1s 3ms/step - loss: 0.3292 - accuracy: 0.8647\n",
      "Epoch 35/100\n",
      "330/330 [==============================] - 1s 3ms/step - loss: 0.3289 - accuracy: 0.8655\n",
      "Epoch 36/100\n",
      "330/330 [==============================] - 1s 3ms/step - loss: 0.3284 - accuracy: 0.8654\n",
      "Epoch 37/100\n",
      "330/330 [==============================] - 1s 3ms/step - loss: 0.3281 - accuracy: 0.8660\n",
      "Epoch 38/100\n",
      "330/330 [==============================] - 1s 3ms/step - loss: 0.3277 - accuracy: 0.8677\n",
      "Epoch 39/100\n",
      "330/330 [==============================] - 1s 3ms/step - loss: 0.3272 - accuracy: 0.8678\n",
      "Epoch 40/100\n",
      "330/330 [==============================] - 1s 3ms/step - loss: 0.3269 - accuracy: 0.8682\n",
      "Epoch 41/100\n",
      "330/330 [==============================] - 1s 3ms/step - loss: 0.3265 - accuracy: 0.8680\n",
      "Epoch 42/100\n",
      "330/330 [==============================] - 1s 3ms/step - loss: 0.3261 - accuracy: 0.8695\n",
      "Epoch 43/100\n",
      "330/330 [==============================] - 1s 3ms/step - loss: 0.3257 - accuracy: 0.8701\n",
      "Epoch 44/100\n",
      "330/330 [==============================] - 1s 3ms/step - loss: 0.3254 - accuracy: 0.8698\n",
      "Epoch 45/100\n",
      "330/330 [==============================] - 1s 3ms/step - loss: 0.3250 - accuracy: 0.8700\n",
      "Epoch 46/100\n",
      "330/330 [==============================] - 1s 3ms/step - loss: 0.3246 - accuracy: 0.8707\n",
      "Epoch 47/100\n",
      "330/330 [==============================] - 1s 3ms/step - loss: 0.3242 - accuracy: 0.8707\n",
      "Epoch 48/100\n",
      "330/330 [==============================] - 1s 3ms/step - loss: 0.3238 - accuracy: 0.8714\n",
      "Epoch 49/100\n",
      "330/330 [==============================] - 1s 3ms/step - loss: 0.3233 - accuracy: 0.8719\n",
      "Epoch 50/100\n",
      "330/330 [==============================] - 1s 3ms/step - loss: 0.3228 - accuracy: 0.8721\n",
      "Epoch 51/100\n",
      "330/330 [==============================] - 1s 3ms/step - loss: 0.3226 - accuracy: 0.8723\n",
      "Epoch 52/100\n",
      "330/330 [==============================] - 1s 3ms/step - loss: 0.3220 - accuracy: 0.8729\n",
      "Epoch 53/100\n",
      "330/330 [==============================] - 1s 3ms/step - loss: 0.3212 - accuracy: 0.8733\n",
      "Epoch 54/100\n",
      "330/330 [==============================] - 1s 3ms/step - loss: 0.3210 - accuracy: 0.8735\n",
      "Epoch 55/100\n",
      "330/330 [==============================] - 1s 3ms/step - loss: 0.3205 - accuracy: 0.8734\n",
      "Epoch 56/100\n",
      "330/330 [==============================] - 1s 3ms/step - loss: 0.3200 - accuracy: 0.8740\n",
      "Epoch 57/100\n",
      "330/330 [==============================] - 1s 3ms/step - loss: 0.3198 - accuracy: 0.8734\n",
      "Epoch 58/100\n",
      "330/330 [==============================] - 1s 3ms/step - loss: 0.3195 - accuracy: 0.8733\n",
      "Epoch 59/100\n",
      "330/330 [==============================] - 1s 3ms/step - loss: 0.3194 - accuracy: 0.8735\n",
      "Epoch 60/100\n",
      "330/330 [==============================] - 1s 3ms/step - loss: 0.3191 - accuracy: 0.8747\n",
      "Epoch 61/100\n",
      "330/330 [==============================] - 1s 3ms/step - loss: 0.3189 - accuracy: 0.8744\n",
      "Epoch 62/100\n",
      "330/330 [==============================] - 1s 3ms/step - loss: 0.3188 - accuracy: 0.8749\n",
      "Epoch 63/100\n",
      "330/330 [==============================] - 1s 3ms/step - loss: 0.3182 - accuracy: 0.8747\n",
      "Epoch 64/100\n",
      "330/330 [==============================] - 1s 3ms/step - loss: 0.3182 - accuracy: 0.8750\n",
      "Epoch 65/100\n",
      "330/330 [==============================] - 1s 3ms/step - loss: 0.3180 - accuracy: 0.8755\n",
      "Epoch 66/100\n",
      "330/330 [==============================] - 1s 3ms/step - loss: 0.3179 - accuracy: 0.8758\n",
      "Epoch 67/100\n",
      "330/330 [==============================] - 1s 3ms/step - loss: 0.3179 - accuracy: 0.8750\n",
      "Epoch 68/100\n",
      "330/330 [==============================] - 1s 3ms/step - loss: 0.3178 - accuracy: 0.8754\n",
      "Epoch 69/100\n",
      "330/330 [==============================] - 1s 3ms/step - loss: 0.3176 - accuracy: 0.8751\n",
      "Epoch 70/100\n",
      "330/330 [==============================] - 1s 3ms/step - loss: 0.3175 - accuracy: 0.8754\n",
      "Epoch 71/100\n",
      "330/330 [==============================] - 1s 3ms/step - loss: 0.3175 - accuracy: 0.8764\n",
      "Epoch 72/100\n",
      "330/330 [==============================] - 1s 3ms/step - loss: 0.3172 - accuracy: 0.8754\n",
      "Epoch 73/100\n",
      "330/330 [==============================] - 1s 3ms/step - loss: 0.3170 - accuracy: 0.8757\n",
      "Epoch 74/100\n",
      "330/330 [==============================] - 1s 3ms/step - loss: 0.3168 - accuracy: 0.8751\n",
      "Epoch 75/100\n",
      "330/330 [==============================] - 1s 3ms/step - loss: 0.3168 - accuracy: 0.8752\n",
      "Epoch 76/100\n",
      "330/330 [==============================] - 1s 3ms/step - loss: 0.3169 - accuracy: 0.8754\n",
      "Epoch 77/100\n",
      "330/330 [==============================] - 1s 3ms/step - loss: 0.3168 - accuracy: 0.8757\n",
      "Epoch 78/100\n",
      "330/330 [==============================] - 1s 3ms/step - loss: 0.3167 - accuracy: 0.8758\n",
      "Epoch 79/100\n",
      "330/330 [==============================] - 1s 3ms/step - loss: 0.3169 - accuracy: 0.8755\n",
      "Epoch 80/100\n",
      "330/330 [==============================] - 1s 3ms/step - loss: 0.3169 - accuracy: 0.8760\n",
      "Epoch 81/100\n"
     ]
    },
    {
     "name": "stdout",
     "output_type": "stream",
     "text": [
      "330/330 [==============================] - 1s 3ms/step - loss: 0.3168 - accuracy: 0.8766\n",
      "Epoch 82/100\n",
      "330/330 [==============================] - 1s 3ms/step - loss: 0.3167 - accuracy: 0.8759\n",
      "Epoch 83/100\n",
      "330/330 [==============================] - 1s 3ms/step - loss: 0.3167 - accuracy: 0.8746\n",
      "Epoch 84/100\n",
      "330/330 [==============================] - 1s 3ms/step - loss: 0.3166 - accuracy: 0.8762\n",
      "Epoch 85/100\n",
      "330/330 [==============================] - 1s 3ms/step - loss: 0.3166 - accuracy: 0.8761\n",
      "Epoch 86/100\n",
      "330/330 [==============================] - 1s 3ms/step - loss: 0.3166 - accuracy: 0.8762\n",
      "Epoch 87/100\n",
      "330/330 [==============================] - 1s 3ms/step - loss: 0.3165 - accuracy: 0.8758\n",
      "Epoch 88/100\n",
      "330/330 [==============================] - 1s 3ms/step - loss: 0.3167 - accuracy: 0.8754\n",
      "Epoch 89/100\n",
      "330/330 [==============================] - 1s 3ms/step - loss: 0.3167 - accuracy: 0.8759\n",
      "Epoch 90/100\n",
      "330/330 [==============================] - 1s 3ms/step - loss: 0.3167 - accuracy: 0.8762\n",
      "Epoch 91/100\n",
      "330/330 [==============================] - 1s 3ms/step - loss: 0.3166 - accuracy: 0.8754\n",
      "Epoch 92/100\n",
      "330/330 [==============================] - 1s 3ms/step - loss: 0.3166 - accuracy: 0.8766\n",
      "Epoch 93/100\n",
      "330/330 [==============================] - 1s 3ms/step - loss: 0.3166 - accuracy: 0.8760\n",
      "Epoch 94/100\n",
      "330/330 [==============================] - 1s 3ms/step - loss: 0.3167 - accuracy: 0.8765\n",
      "Epoch 95/100\n",
      "330/330 [==============================] - 1s 3ms/step - loss: 0.3166 - accuracy: 0.8758\n",
      "Epoch 96/100\n",
      "330/330 [==============================] - 1s 3ms/step - loss: 0.3165 - accuracy: 0.8767\n",
      "Epoch 97/100\n",
      "330/330 [==============================] - 1s 3ms/step - loss: 0.3168 - accuracy: 0.8755\n",
      "Epoch 98/100\n",
      "330/330 [==============================] - 1s 3ms/step - loss: 0.3165 - accuracy: 0.8755\n",
      "Epoch 99/100\n",
      "330/330 [==============================] - 1s 3ms/step - loss: 0.3165 - accuracy: 0.8761\n",
      "Epoch 100/100\n",
      "330/330 [==============================] - 1s 3ms/step - loss: 0.3167 - accuracy: 0.8761\n",
      "83/83 [==============================] - 0s 3ms/step - loss: 0.2953 - accuracy: 0.8894\n",
      "[0.2952975034713745, 0.8893939256668091]\n",
      "83/83 [==============================] - 0s 2ms/step\n",
      "Classsification Report: \n",
      "               precision    recall  f1-score   support\n",
      "\n",
      "           0       0.91      0.86      0.89      1320\n",
      "           1       0.87      0.92      0.89      1320\n",
      "\n",
      "    accuracy                           0.89      2640\n",
      "   macro avg       0.89      0.89      0.89      2640\n",
      "weighted avg       0.89      0.89      0.89      2640\n",
      "\n"
     ]
    }
   ],
   "source": [
    "y_preds = ANN(X_train,y_train,X_test,y_test,'binary_crossentropy',-1)"
   ]
  },
  {
   "cell_type": "code",
   "execution_count": 20,
   "id": "e4cae52e",
   "metadata": {},
   "outputs": [
    {
     "data": {
      "text/plain": [
       "array([[1140,  180],\n",
       "       [ 112, 1208]], dtype=int64)"
      ]
     },
     "execution_count": 20,
     "metadata": {},
     "output_type": "execute_result"
    }
   ],
   "source": [
    "confusion_matrix(y_test,y_preds)"
   ]
  },
  {
   "cell_type": "code",
   "execution_count": 21,
   "id": "ff6cb6f9",
   "metadata": {},
   "outputs": [
    {
     "data": {
      "text/plain": [
       "0.8893939393939394"
      ]
     },
     "execution_count": 21,
     "metadata": {},
     "output_type": "execute_result"
    }
   ],
   "source": [
    "accuracy_score(y_test,y_preds)"
   ]
  },
  {
   "cell_type": "code",
   "execution_count": null,
   "id": "c3f9367b",
   "metadata": {},
   "outputs": [],
   "source": []
  }
 ],
 "metadata": {
  "kernelspec": {
   "display_name": "Python 3 (ipykernel)",
   "language": "python",
   "name": "python3"
  },
  "language_info": {
   "codemirror_mode": {
    "name": "ipython",
    "version": 3
   },
   "file_extension": ".py",
   "mimetype": "text/x-python",
   "name": "python",
   "nbconvert_exporter": "python",
   "pygments_lexer": "ipython3",
   "version": "3.10.8"
  }
 },
 "nbformat": 4,
 "nbformat_minor": 5
}
