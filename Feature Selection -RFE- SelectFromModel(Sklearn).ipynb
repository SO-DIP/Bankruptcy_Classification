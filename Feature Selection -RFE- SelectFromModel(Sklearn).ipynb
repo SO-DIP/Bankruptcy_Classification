{
 "cells": [
  {
   "cell_type": "code",
   "execution_count": 1,
   "id": "539f37cf",
   "metadata": {},
   "outputs": [],
   "source": [
    "import numpy as np\n",
    "import pandas as pd\n",
    "import matplotlib.pyplot as plt"
   ]
  },
  {
   "cell_type": "code",
   "execution_count": 2,
   "id": "ff04a4bc",
   "metadata": {},
   "outputs": [],
   "source": [
    "df=pd.read_csv('Data.csv')"
   ]
  },
  {
   "cell_type": "code",
   "execution_count": 41,
   "id": "7236ffaa",
   "metadata": {},
   "outputs": [],
   "source": [
    "X=df.drop('Bankruptcy',axis='columns')\n",
    "y=df['Bankruptcy']\n",
    "A=list(df)"
   ]
  },
  {
   "cell_type": "code",
   "execution_count": 4,
   "id": "f349ebda",
   "metadata": {},
   "outputs": [],
   "source": [
    "from imblearn.over_sampling import SMOTE"
   ]
  },
  {
   "cell_type": "code",
   "execution_count": 5,
   "id": "3ff05115",
   "metadata": {},
   "outputs": [
    {
     "data": {
      "text/plain": [
       "1    6599\n",
       "0    6599\n",
       "Name: Bankruptcy, dtype: int64"
      ]
     },
     "execution_count": 5,
     "metadata": {},
     "output_type": "execute_result"
    }
   ],
   "source": [
    "smote=SMOTE(sampling_strategy='minority')\n",
    "X_sm,y_sm = smote.fit_resample(X,y)\n",
    "y_sm.value_counts()"
   ]
  },
  {
   "cell_type": "code",
   "execution_count": 6,
   "id": "91fd7d32",
   "metadata": {},
   "outputs": [],
   "source": [
    "from sklearn.preprocessing import StandardScaler\n",
    "sc=StandardScaler()"
   ]
  },
  {
   "cell_type": "code",
   "execution_count": 7,
   "id": "a8a507f4",
   "metadata": {},
   "outputs": [
    {
     "data": {
      "text/plain": [
       "1    1320\n",
       "0    1320\n",
       "Name: Bankruptcy, dtype: int64"
      ]
     },
     "execution_count": 7,
     "metadata": {},
     "output_type": "execute_result"
    }
   ],
   "source": [
    "from sklearn.model_selection import train_test_split\n",
    "X_train, X_test, y_train, y_test = train_test_split(X_sm, y_sm, test_size=0.2, random_state=15, stratify=y_sm)\n",
    "y_train.value_counts()\n",
    "y_test.value_counts()"
   ]
  },
  {
   "cell_type": "code",
   "execution_count": 8,
   "id": "580ad34b",
   "metadata": {},
   "outputs": [],
   "source": [
    "X_train=sc.fit_transform(X_train)\n",
    "X_test= sc.transform(X_test)"
   ]
  },
  {
   "cell_type": "code",
   "execution_count": 15,
   "id": "8a711084",
   "metadata": {},
   "outputs": [
    {
     "name": "stdout",
     "output_type": "stream",
     "text": [
      "(10558, 95)\n"
     ]
    },
    {
     "data": {
      "text/plain": [
       "(10558, 31)"
      ]
     },
     "execution_count": 15,
     "metadata": {},
     "output_type": "execute_result"
    }
   ],
   "source": [
    "from sklearn.linear_model import LogisticRegression\n",
    "from sklearn.feature_selection import SelectFromModel\n",
    "classifier = SelectFromModel(LogisticRegression(max_iter=1000,random_state = 0))\n",
    "print (X_train.shape)\n",
    "classifier.fit(X_train,y_train)\n",
    "classifier.transform(X_train).shape"
   ]
  },
  {
   "cell_type": "code",
   "execution_count": 42,
   "id": "3181f5f0",
   "metadata": {},
   "outputs": [
    {
     "name": "stdout",
     "output_type": "stream",
     "text": [
      "selected Features Are : [False False False False False False False False False False False False\n",
      " False False False  True False  True  True False False False False False\n",
      " False False False False False False False False False False False False\n",
      " False False False  True False False False False False False False False\n",
      " False False False False False False False False False False False False\n",
      " False False False False False False False False False False False False\n",
      " False False False False False False False False False False False False\n",
      " False False False False False False  True False False False False]\n",
      "Features rankings as follows : [ 5  4 45 28 29 26 12 55 71 13 81 58 37 65 89  1 14  1  1 63 32  7 19 78\n",
      " 46 64 47 74 69 33 87 10 88 72 90 36  2  9 52  1 48 20 22  6 50 18 21 56\n",
      " 44 17 31 68 53 43 85 66  8 67 73 49 38 76 82 24 54 83 70 75 39 80 59 60\n",
      " 79 23 27 15 42 84 25 40 30 11 41 62 51  3 57 77 34 16  1 61 86 91 35]\n"
     ]
    },
    {
     "data": {
      "text/plain": [
       "array(['x15', 'x17', 'x18', 'x39', 'x90'], dtype=object)"
      ]
     },
     "execution_count": 42,
     "metadata": {},
     "output_type": "execute_result"
    }
   ],
   "source": [
    "from sklearn.feature_selection import RFE\n",
    "import warnings\n",
    "warnings.filterwarnings('ignore')\n",
    "classifier =LogisticRegression(max_iter=1000 ,random_state = 0)\n",
    "recur_fe =RFE(classifier,n_features_to_select=5)\n",
    "feature = recur_fe.fit(X_train,y_train)\n",
    "print (\"selected Features Are : %s\" % (feature.support_))\n",
    "print (\"Features rankings as follows : %s\" % (feature.ranking_))\n",
    "feature.get_feature_names_out(input_features=None)\n"
   ]
  },
  {
   "cell_type": "code",
   "execution_count": 43,
   "id": "6bbe5201",
   "metadata": {},
   "outputs": [
    {
     "data": {
      "text/plain": [
       "(' Net Value Per Share (B)',\n",
       " ' Net Value Per Share (C)',\n",
       " ' Persistent EPS in the Last Four Seasons',\n",
       " ' Borrowing dependency',\n",
       " ' Liability to Equity')"
      ]
     },
     "execution_count": 43,
     "metadata": {},
     "output_type": "execute_result"
    }
   ],
   "source": [
    "A[15],A[17],A[18],A[39],A[90]"
   ]
  },
  {
   "cell_type": "code",
   "execution_count": 44,
   "id": "b5704439",
   "metadata": {},
   "outputs": [
    {
     "name": "stdout",
     "output_type": "stream",
     "text": [
      "selected Features Are : [False False False False False False False False  True  True False False\n",
      " False False False False False False False False False False False False\n",
      " False False False False False False False False False False  True False\n",
      " False  True False  True False False False False False False False False\n",
      " False False False False False False False False False False False False\n",
      " False False False False False False False False False False False False\n",
      " False False False False False False False False False False False False\n",
      " False False False False False False False False False False False]\n",
      "Features rankings as follows : [11 40 65 60 33 30 59 22  1  1 61 13  6 69 26 53 73 68 31 55 81 49 56 36\n",
      " 19 28 57 24  5 74 45 20 86 84  1 80 87  1 37  1  8 64 66 41 27 88 90 52\n",
      " 32 46 71 14 78 48 12 25 18 77 63 62 72  4 76 58 50 34 70  3 82 35 39 29\n",
      " 38  2 15 83 10 44 23 51 54 42 85 17 79  7 67 47 75 43  9 21 16 89 91]\n"
     ]
    },
    {
     "data": {
      "text/plain": [
       "array(['x8', 'x9', 'x34', 'x37', 'x39'], dtype=object)"
      ]
     },
     "execution_count": 44,
     "metadata": {},
     "output_type": "execute_result"
    }
   ],
   "source": [
    "from sklearn.feature_selection import RFE\n",
    "import warnings\n",
    "warnings.filterwarnings('ignore')\n",
    "from sklearn.tree import DecisionTreeClassifier\n",
    "DT = DecisionTreeClassifier(criterion='entropy',random_state=0)\n",
    "recur_fe =RFE(DT,n_features_to_select=5)\n",
    "feature = recur_fe.fit(X_train,y_train)\n",
    "print (\"selected Features Are : %s\" % (feature.support_))\n",
    "print (\"Features rankings as follows : %s\" % (feature.ranking_))\n",
    "feature.get_feature_names_out(input_features=None)"
   ]
  },
  {
   "cell_type": "code",
   "execution_count": 45,
   "id": "6e9ce6f2",
   "metadata": {},
   "outputs": [
    {
     "data": {
      "text/plain": [
       "(' Non-industry income and expenditure/revenue',\n",
       " ' Continuous interest rate (after tax)',\n",
       " ' Interest Expense Ratio',\n",
       " ' Net worth/Assets',\n",
       " ' Borrowing dependency')"
      ]
     },
     "execution_count": 45,
     "metadata": {},
     "output_type": "execute_result"
    }
   ],
   "source": [
    "A[8],A[9],A[34],A[37],A[39]"
   ]
  },
  {
   "cell_type": "code",
   "execution_count": 53,
   "id": "d4b8b6c2",
   "metadata": {},
   "outputs": [
    {
     "name": "stdout",
     "output_type": "stream",
     "text": [
      "selected Features Are : [False False False False False False False  True False  True False False\n",
      " False False False False False False  True False False False False False\n",
      " False False False False False False False False False False False False\n",
      " False False False  True False False False False False False False False\n",
      " False False False False False False False False False False False False\n",
      " False False False False False False False False False False False False\n",
      " False False False False False False False False False False False False\n",
      " False  True False False False False False False False False False]\n",
      "Features rankings as follows : [15 18 20 34 56 51 10  1 12  1 72 35 33 77 70 43 55 57  1 46 83 61 21 60\n",
      " 52 48 53 41 19 90 65 69 84 91  4 75  2  7 49  1 28 68 11 63 30 79 87 59\n",
      " 71 64 82 16 85 62 29 67 27 88 76 26 44 23 74 32 54  9 80  3 36 39 73 66\n",
      " 38 13 50 89 40 22 24 37 25 58 45 31 81  1 78 42 47  6  5  8 14 86 17]\n"
     ]
    },
    {
     "data": {
      "text/plain": [
       "array(['x7', 'x9', 'x18', 'x39', 'x85'], dtype=object)"
      ]
     },
     "execution_count": 53,
     "metadata": {},
     "output_type": "execute_result"
    }
   ],
   "source": [
    "from sklearn.feature_selection import RFE\n",
    "import warnings\n",
    "warnings.filterwarnings('ignore')\n",
    "from sklearn.ensemble import RandomForestClassifier\n",
    "RF = RandomForestClassifier(n_estimators=100,criterion='entropy',random_state=0)\n",
    "recur_fe =RFE(RF,n_features_to_select=5)\n",
    "feature = recur_fe.fit(X_train,y_train)\n",
    "print (\"selected Features Are : %s\" % (feature.support_))\n",
    "print (\"Features rankings as follows : %s\" % (feature.ranking_))\n",
    "feature.get_feature_names_out(input_features=None)"
   ]
  },
  {
   "cell_type": "code",
   "execution_count": 54,
   "id": "a6072676",
   "metadata": {},
   "outputs": [
    {
     "data": {
      "text/plain": [
       "(' After-tax net Interest Rate',\n",
       " ' Continuous interest rate (after tax)',\n",
       " ' Persistent EPS in the Last Four Seasons',\n",
       " ' Borrowing dependency',\n",
       " ' Net Income to Total Assets')"
      ]
     },
     "execution_count": 54,
     "metadata": {},
     "output_type": "execute_result"
    }
   ],
   "source": [
    "A[7],A[9],A[18],A[39],A[85]"
   ]
  },
  {
   "cell_type": "code",
   "execution_count": 49,
   "id": "3d765e74",
   "metadata": {},
   "outputs": [
    {
     "name": "stdout",
     "output_type": "stream",
     "text": [
      "selected Features Are : [ True  True  True  True  True  True  True  True  True  True  True  True\n",
      "  True  True  True  True  True  True  True  True  True  True  True  True\n",
      "  True  True  True  True  True False  True  True  True False  True  True\n",
      "  True  True  True  True  True  True  True  True  True  True  True  True\n",
      "  True  True  True  True  True  True  True  True  True  True  True  True\n",
      "  True  True  True  True  True  True  True  True  True  True  True  True\n",
      "  True  True  True False  True  True  True  True  True  True  True  True\n",
      "  True  True  True  True  True  True  True  True  True  True  True]\n",
      "Features rankings as follows : [1 1 1 1 1 1 1 1 1 1 1 1 1 1 1 1 1 1 1 1 1 1 1 1 1 1 1 1 1 3 1 1 1 4 1 1 1\n",
      " 1 1 1 1 1 1 1 1 1 1 1 1 1 1 1 1 1 1 1 1 1 1 1 1 1 1 1 1 1 1 1 1 1 1 1 1 1\n",
      " 1 2 1 1 1 1 1 1 1 1 1 1 1 1 1 1 1 1 1 1 1]\n"
     ]
    },
    {
     "data": {
      "text/plain": [
       "array(['x0', 'x1', 'x2', 'x3', 'x4', 'x5', 'x6', 'x7', 'x8', 'x9', 'x10',\n",
       "       'x11', 'x12', 'x13', 'x14', 'x15', 'x16', 'x17', 'x18', 'x19',\n",
       "       'x20', 'x21', 'x22', 'x23', 'x24', 'x25', 'x26', 'x27', 'x28',\n",
       "       'x30', 'x31', 'x32', 'x34', 'x35', 'x36', 'x37', 'x38', 'x39',\n",
       "       'x40', 'x41', 'x42', 'x43', 'x44', 'x45', 'x46', 'x47', 'x48',\n",
       "       'x49', 'x50', 'x51', 'x52', 'x53', 'x54', 'x55', 'x56', 'x57',\n",
       "       'x58', 'x59', 'x60', 'x61', 'x62', 'x63', 'x64', 'x65', 'x66',\n",
       "       'x67', 'x68', 'x69', 'x70', 'x71', 'x72', 'x73', 'x74', 'x76',\n",
       "       'x77', 'x78', 'x79', 'x80', 'x81', 'x82', 'x83', 'x84', 'x85',\n",
       "       'x86', 'x87', 'x88', 'x89', 'x90', 'x91', 'x92', 'x93', 'x94'],\n",
       "      dtype=object)"
      ]
     },
     "execution_count": 49,
     "metadata": {},
     "output_type": "execute_result"
    }
   ],
   "source": [
    "from sklearn.feature_selection import RFECV\n",
    "import warnings\n",
    "warnings.filterwarnings('ignore')\n",
    "from sklearn.ensemble import RandomForestClassifier\n",
    "RF = RandomForestClassifier(n_estimators=100,criterion='entropy',random_state=0)\n",
    "recur_fe =RFECV(RF,cv=5)\n",
    "feature = recur_fe.fit(X_train,y_train)\n",
    "print (\"selected Features Are : %s\" % (feature.support_))\n",
    "print (\"Features rankings as follows : %s\" % (feature.ranking_))\n",
    "feature.get_feature_names_out(input_features=None)"
   ]
  },
  {
   "cell_type": "code",
   "execution_count": 57,
   "id": "7a8488f9",
   "metadata": {},
   "outputs": [
    {
     "data": {
      "text/plain": [
       "(' Net Value Growth Rate', ' Quick Ratio', ' Fixed Assets to Assets')"
      ]
     },
     "execution_count": 57,
     "metadata": {},
     "output_type": "execute_result"
    }
   ],
   "source": [
    "A[29],A[33],A[75] #unwanted features "
   ]
  },
  {
   "cell_type": "code",
   "execution_count": null,
   "id": "f58fa643",
   "metadata": {},
   "outputs": [],
   "source": []
  }
 ],
 "metadata": {
  "kernelspec": {
   "display_name": "Python 3 (ipykernel)",
   "language": "python",
   "name": "python3"
  },
  "language_info": {
   "codemirror_mode": {
    "name": "ipython",
    "version": 3
   },
   "file_extension": ".py",
   "mimetype": "text/x-python",
   "name": "python",
   "nbconvert_exporter": "python",
   "pygments_lexer": "ipython3",
   "version": "3.10.8"
  }
 },
 "nbformat": 4,
 "nbformat_minor": 5
}
